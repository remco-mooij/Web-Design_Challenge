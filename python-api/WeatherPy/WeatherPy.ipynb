{
 "cells": [
  {
   "cell_type": "markdown",
   "metadata": {},
   "source": [
    "# WeatherPy\n",
    "----\n",
    "\n",
    "#### Note\n",
    "* Instructions have been included for each segment. You do not have to follow them exactly, but they are included to help you think through the steps."
   ]
  },
  {
   "cell_type": "code",
   "execution_count": 1,
   "metadata": {
    "scrolled": true
   },
   "outputs": [],
   "source": [
    "# Dependencies and Setup\n",
    "%matplotlib inline\n",
    "import matplotlib.pyplot as plt\n",
    "import pandas as pd\n",
    "import numpy as np\n",
    "import requests\n",
    "import time\n",
    "import json\n",
    "from scipy.stats import linregress\n",
    "\n",
    "# Import API key\n",
    "from api_keys import weather_api_key\n",
    "\n",
    "# Incorporated citipy to determine city based on latitude and longitude\n",
    "from citipy import citipy\n",
    "\n",
    "# Range of latitudes and longitudes\n",
    "lat_range = (-90, 90)\n",
    "lng_range = (-180, 180)"
   ]
  },
  {
   "cell_type": "code",
   "execution_count": 2,
   "metadata": {},
   "outputs": [],
   "source": [
    "url = \"http://api.openweathermap.org/data/2.5/weather?\"\n",
    "units = \"imperial\"\n",
    "\n",
    "base_url = f'{url}appid={weather_api_key}&units={units}&q='"
   ]
  },
  {
   "cell_type": "markdown",
   "metadata": {},
   "source": [
    "## Generate Cities List"
   ]
  },
  {
   "cell_type": "code",
   "execution_count": 3,
   "metadata": {},
   "outputs": [
    {
     "data": {
      "text/plain": [
       "602"
      ]
     },
     "execution_count": 3,
     "metadata": {},
     "output_type": "execute_result"
    }
   ],
   "source": [
    "# Create empty lists for holding random lat_lngs, cities, countries and lat_lngs of unique cities\n",
    "lat_lngs = []\n",
    "cities = []\n",
    "countries = []\n",
    "lat_lng_cities = []\n",
    "\n",
    "# Create a set of random lat and lng combinations\n",
    "lats = np.random.uniform(low=-90.000, high=90.000, size=1500)\n",
    "lngs = np.random.uniform(low=-180.000, high=180.000, size=1500)\n",
    "lat_lngs = zip(lats, lngs)\n",
    "\n",
    "# Identify nearest city and country for each lat, lng combination\n",
    "for lat_lng in lat_lngs:\n",
    "    city = citipy.nearest_city(lat_lng[0], lat_lng[1]).city_name\n",
    "    country = citipy.nearest_city(lat_lng[0], lat_lng[1]).country_code\n",
    "    \n",
    "    # If the city is unique, then add it to a our cities list and add corresponding country to country list\n",
    "    if city not in cities:\n",
    "        cities.append(city)\n",
    "        countries.append(country)\n",
    "        \n",
    "        # Add corresponding lat & lng to another list to generate scatter plot later\n",
    "        lat_lng_cities.append(lat_lng)\n",
    "\n",
    "# Print the city count to confirm sufficient count\n",
    "len(cities)"
   ]
  },
  {
   "cell_type": "code",
   "execution_count": 4,
   "metadata": {},
   "outputs": [
    {
     "data": {
      "text/html": [
       "<div>\n",
       "<style scoped>\n",
       "    .dataframe tbody tr th:only-of-type {\n",
       "        vertical-align: middle;\n",
       "    }\n",
       "\n",
       "    .dataframe tbody tr th {\n",
       "        vertical-align: top;\n",
       "    }\n",
       "\n",
       "    .dataframe thead th {\n",
       "        text-align: right;\n",
       "    }\n",
       "</style>\n",
       "<table border=\"1\" class=\"dataframe\">\n",
       "  <thead>\n",
       "    <tr style=\"text-align: right;\">\n",
       "      <th></th>\n",
       "      <th>City</th>\n",
       "      <th>Country</th>\n",
       "      <th>Latitude</th>\n",
       "      <th>Longtitude</th>\n",
       "    </tr>\n",
       "  </thead>\n",
       "  <tbody>\n",
       "    <tr>\n",
       "      <th>0</th>\n",
       "      <td>vaitupu</td>\n",
       "      <td>wf</td>\n",
       "      <td>-10.562808</td>\n",
       "      <td>-175.346449</td>\n",
       "    </tr>\n",
       "    <tr>\n",
       "      <th>1</th>\n",
       "      <td>port alfred</td>\n",
       "      <td>za</td>\n",
       "      <td>-84.993006</td>\n",
       "      <td>48.938688</td>\n",
       "    </tr>\n",
       "    <tr>\n",
       "      <th>2</th>\n",
       "      <td>ushuaia</td>\n",
       "      <td>ar</td>\n",
       "      <td>-86.603767</td>\n",
       "      <td>-69.181265</td>\n",
       "    </tr>\n",
       "    <tr>\n",
       "      <th>3</th>\n",
       "      <td>souillac</td>\n",
       "      <td>mu</td>\n",
       "      <td>-47.684674</td>\n",
       "      <td>72.382445</td>\n",
       "    </tr>\n",
       "    <tr>\n",
       "      <th>4</th>\n",
       "      <td>belushya guba</td>\n",
       "      <td>ru</td>\n",
       "      <td>77.062728</td>\n",
       "      <td>55.556614</td>\n",
       "    </tr>\n",
       "    <tr>\n",
       "      <th>...</th>\n",
       "      <td>...</td>\n",
       "      <td>...</td>\n",
       "      <td>...</td>\n",
       "      <td>...</td>\n",
       "    </tr>\n",
       "    <tr>\n",
       "      <th>597</th>\n",
       "      <td>bay city</td>\n",
       "      <td>us</td>\n",
       "      <td>43.914263</td>\n",
       "      <td>-83.418819</td>\n",
       "    </tr>\n",
       "    <tr>\n",
       "      <th>598</th>\n",
       "      <td>mangai</td>\n",
       "      <td>cd</td>\n",
       "      <td>-2.859188</td>\n",
       "      <td>20.131764</td>\n",
       "    </tr>\n",
       "    <tr>\n",
       "      <th>599</th>\n",
       "      <td>aquiraz</td>\n",
       "      <td>br</td>\n",
       "      <td>-1.605996</td>\n",
       "      <td>-36.026520</td>\n",
       "    </tr>\n",
       "    <tr>\n",
       "      <th>600</th>\n",
       "      <td>sibolga</td>\n",
       "      <td>id</td>\n",
       "      <td>-0.146580</td>\n",
       "      <td>97.635400</td>\n",
       "    </tr>\n",
       "    <tr>\n",
       "      <th>601</th>\n",
       "      <td>vostok</td>\n",
       "      <td>ru</td>\n",
       "      <td>48.000825</td>\n",
       "      <td>149.269885</td>\n",
       "    </tr>\n",
       "  </tbody>\n",
       "</table>\n",
       "<p>602 rows × 4 columns</p>\n",
       "</div>"
      ],
      "text/plain": [
       "              City Country   Latitude  Longtitude\n",
       "0          vaitupu      wf -10.562808 -175.346449\n",
       "1      port alfred      za -84.993006   48.938688\n",
       "2          ushuaia      ar -86.603767  -69.181265\n",
       "3         souillac      mu -47.684674   72.382445\n",
       "4    belushya guba      ru  77.062728   55.556614\n",
       "..             ...     ...        ...         ...\n",
       "597       bay city      us  43.914263  -83.418819\n",
       "598         mangai      cd  -2.859188   20.131764\n",
       "599        aquiraz      br  -1.605996  -36.026520\n",
       "600        sibolga      id  -0.146580   97.635400\n",
       "601         vostok      ru  48.000825  149.269885\n",
       "\n",
       "[602 rows x 4 columns]"
      ]
     },
     "execution_count": 4,
     "metadata": {},
     "output_type": "execute_result"
    }
   ],
   "source": [
    "# Split lat_lngs\n",
    "lats_cities, lngs_cities = zip(*lat_lng_cities)\n",
    "\n",
    "# Create dataframe containing ciies with corresponding latitudes and longtitudes\n",
    "cities_coordinates_df = pd.DataFrame({\"City\": cities,\n",
    "                                      \"Country\": countries,\n",
    "                                      \"Latitude\": lats_cities,\n",
    "                                      \"Longtitude\": lngs_cities})\n",
    "cities_coordinates_df"
   ]
  },
  {
   "cell_type": "markdown",
   "metadata": {},
   "source": [
    "### Perform API Calls\n",
    "* Perform a weather check on each city using a series of successive API calls.\n",
    "* Include a print log of each city as it'sbeing processed (with the city number and city name).\n"
   ]
  },
  {
   "cell_type": "code",
   "execution_count": 6,
   "metadata": {
    "scrolled": false
   },
   "outputs": [
    {
     "name": "stdout",
     "output_type": "stream",
     "text": [
      "City #1: vaitupu\n",
      "City #2: port%20alfred\n",
      "City #3: ushuaia\n",
      "City #4: souillac\n",
      "City #5: belushya%20guba\n",
      "City #6: chuy\n",
      "City #7: sao%20felix%20do%20xingu\n",
      "City #8: victor%20harbor\n",
      "City #9: port%20hardy\n",
      "City #10: cape%20town\n",
      "City #11: bethel\n",
      "City #12: cubara\n",
      "City #13: bredasdorp\n",
      "City #14: saint%20george\n",
      "City #15: punta%20arenas\n",
      "City #16: new%20norfolk\n",
      "City #17: guasave\n",
      "City #18: mataura\n",
      "City #19: hvolsvollur\n",
      "City #20: bluff\n",
      "City #21: kapaa\n",
      "City #22: jamestown\n",
      "City #23: khatanga\n",
      "City #24: pevek\n",
      "City #25: palmer\n",
      "City #26: araouane\n",
      "City #27: kununurra\n",
      "City #28: naryan-mar\n",
      "City #29: vaini\n",
      "City #30: hithadhoo\n",
      "City #31: ormara\n",
      "City #32: galatas\n",
      "City #33: east%20london\n",
      "City #34: bose\n",
      "City #35: butaritari\n",
      "City #36: sioux%20lookout\n",
      "City #37: mantua\n",
      "City #38: lagoa\n",
      "City #39: lebu\n",
      "City #40: vanimo\n",
      "City #41: vega%20de%20alatorre\n",
      "City #42: qazvin\n",
      "City #43: berdigestyakh\n",
      "City #44: jahanabad\n",
      "City #45: puerto%20ayora\n",
      "City #46: guerrero%20negro\n",
      "City #47: rikitea\n",
      "City #48: bambous%20virieux\n",
      "City #49: ribeira%20grande\n",
      "City #50: ossora\n",
      "City #51: ailigandi\n",
      "City #52: simao\n",
      "City #53: aromashevo\n",
      "City #54: gigmoto\n",
      "City #55: hermanus\n",
      "City #56: sungairaya\n",
      "City #57: albany\n",
      "City #58: faanui\n",
      "City #59: aklavik\n",
      "City #60: whitecourt\n",
      "City #61: bukachacha\n",
      "City #62: kolyvan\n",
      "City #63: artesia\n",
      "City #64: busselton\n",
      "City #65: ponta%20do%20sol\n",
      "City #66: dikson\n",
      "City #67: aksu\n",
      "City #68: yellowknife\n",
      "City #69: tasiilaq\n",
      "City #70: acarau\n",
      "City #71: point%20pedro\n",
      "City #72: tianpeng\n",
      "City #73: talnakh\n",
      "City #74: sampit\n",
      "City #75: mahajanga\n",
      "City #76: illoqqortoormiut\n",
      "City #77: kimbe\n",
      "City #78: bozoum\n",
      "City #79: fukue\n",
      "City #80: dolovo\n",
      "City #81: port%20elizabeth\n",
      "City #82: atuona\n",
      "City #83: phan%20rang\n",
      "City #84: zhigansk\n",
      "City #85: carnarvon\n",
      "City #86: san%20quintin\n",
      "City #87: yar-sale\n",
      "City #88: kiama\n",
      "City #89: srinagar\n",
      "City #90: arbagar\n",
      "City #91: eatonton\n",
      "City #92: ancud\n",
      "City #93: sentyabrskiy\n",
      "City #94: taolanaro\n",
      "City #95: tuktoyaktuk\n",
      "City #96: mys%20shmidta\n",
      "City #97: marzuq\n",
      "City #98: kaitangata\n",
      "City #99: furstenfeld\n",
      "City #100: qaanaaq\n",
      "City #101: dingle\n",
      "City #102: ulaangom\n",
      "City #103: luganville\n",
      "City #104: issoire\n",
      "City #105: alofi\n",
      "City #106: gubkinskiy\n",
      "City #107: tiksi\n",
      "City #108: nikolskoye\n",
      "City #109: kidal\n",
      "City #110: alice%20springs\n",
      "City #111: arraial%20do%20cabo\n",
      "City #112: minna\n",
      "City #113: griffith\n",
      "City #114: viligili\n",
      "City #115: perth\n",
      "City #116: linxia\n",
      "City #117: tsihombe\n",
      "City #118: narsaq\n",
      "City #119: anadyr\n",
      "City #120: elko\n",
      "City #121: bathsheba\n",
      "City #122: halalo\n",
      "City #123: mount%20gambier\n",
      "City #124: belluno\n",
      "City #125: provideniya\n",
      "City #126: surt\n",
      "City #127: attawapiskat\n",
      "City #128: sola\n",
      "City #129: disna\n",
      "City #130: fortuna\n",
      "City #131: salinas\n",
      "City #132: saleaula\n",
      "City #133: bulgan\n",
      "City #134: tacuati\n",
      "City #135: rungata\n",
      "City #136: marawi\n",
      "City #137: zaria\n",
      "City #138: auki\n",
      "City #139: norman%20wells\n",
      "City #140: tautira\n",
      "City #141: san%20luis\n",
      "City #142: karpogory\n",
      "City #143: amderma\n",
      "City #144: batangafo\n",
      "City #145: jalu\n",
      "City #146: amuntai\n",
      "City #147: bantva\n",
      "City #148: san%20carlos\n",
      "City #149: puebloviejo\n",
      "City #150: bassar\n",
      "City #151: chernaya%20kholunitsa\n",
      "City #152: hilo\n",
      "City #153: davidson\n",
      "City #154: miri\n",
      "City #155: avarua\n",
      "City #156: ghatanji\n",
      "City #157: natal\n",
      "City #158: mersin\n",
      "City #159: arrecife\n",
      "City #160: jian\n",
      "City #161: panaba\n",
      "City #162: hobart\n",
      "City #163: nuuk\n",
      "City #164: upernavik\n",
      "City #165: moose%20factory\n",
      "City #166: nurlat\n",
      "City #167: zyryanka\n",
      "City #168: acapulco\n",
      "City #169: stepnyak\n",
      "City #170: guarapari\n",
      "City #171: klyuchevskiy\n",
      "City #172: klaksvik\n",
      "City #173: vestmanna\n",
      "City #174: nome\n",
      "City #175: hay%20river\n",
      "City #176: barrow\n",
      "City #177: tilichiki\n",
      "City #178: egvekinot\n",
      "City #179: altea\n",
      "City #180: saint-philippe\n",
      "City #181: sistranda\n",
      "City #182: hyeres\n",
      "City #183: grindavik\n",
      "City #184: cam%20pha\n",
      "City #185: rantauprapat\n",
      "City #186: tuatapere\n",
      "City #187: yangambi\n",
      "City #188: teguldet\n",
      "City #189: mar%20del%20plata\n",
      "City #190: castro\n",
      "City #191: gashua\n",
      "City #192: cherskiy\n",
      "City #193: saskylakh\n",
      "City #194: keita\n",
      "City #195: sergeyevka\n",
      "City #196: burnie\n",
      "City #197: sayabec\n",
      "City #198: williston\n",
      "City #199: esperance\n",
      "City #200: manfredonia\n",
      "City #201: phulabani\n",
      "City #202: viedma\n",
      "City #203: srednekolymsk\n",
      "City #204: saldanha\n",
      "City #205: ternate\n",
      "City #206: westport\n",
      "City #207: mandalgovi\n",
      "City #208: aberdeen\n",
      "City #209: meyungs\n",
      "City #210: tiarei\n",
      "City #211: messina\n",
      "City #212: mogadouro\n",
      "City #213: lompoc\n",
      "City #214: zeya\n",
      "City #215: katsuura\n",
      "City #216: sur\n",
      "City #217: dunedin\n",
      "City #218: putatan\n",
      "City #219: clifton\n",
      "City #220: yarmouth\n",
      "City #221: camacha\n",
      "City #222: nanortalik\n",
      "City #223: laguna\n",
      "City #224: sorvag\n",
      "City #225: waipawa\n",
      "City #226: along\n",
      "City #227: los%20llanos%20de%20aridane\n",
      "City #228: sorland\n",
      "City #229: ondarroa\n",
      "City #230: sloboda\n",
      "City #231: douglas\n",
      "City #232: boissevain\n",
      "City #233: cayenne\n",
      "City #234: cap-aux-meules\n",
      "City #235: salalah\n",
      "City #236: port%20lincoln\n",
      "City #237: samana\n",
      "City #238: misratah\n",
      "City #239: batagay\n",
      "City #240: murmashi\n",
      "City #241: mortka\n",
      "City #242: umzimvubu\n",
      "City #243: amos\n",
      "City #244: gamboma\n",
      "City #245: leningradskiy\n",
      "City #246: basco\n",
      "City #247: ballina\n",
      "City #248: bereda\n",
      "City #249: tandil\n",
      "City #250: sabha\n",
      "City #251: reinosa\n",
      "City #252: rio%20gallegos\n",
      "City #253: andenes\n",
      "City #254: luderitz\n",
      "City #255: rocha\n",
      "City #256: bonavista\n",
      "City #257: hasaki\n",
      "City #258: challans\n",
      "City #259: crato\n",
      "City #260: washington\n",
      "City #261: kalmunai\n",
      "City #262: riverton\n",
      "City #263: makakilo%20city\n",
      "City #264: provost\n",
      "City #265: strezhevoy\n",
      "City #266: marquette\n",
      "City #267: kalaleh\n",
      "City #268: hervey%20bay\n",
      "City #269: sao%20joao%20da%20barra\n",
      "City #270: pascagoula\n",
      "City #271: bellevue\n",
      "City #272: akyab\n",
      "City #273: cidreira\n",
      "City #274: vestmannaeyjar\n",
      "City #275: nicoya\n",
      "City #276: thinadhoo\n",
      "City #277: tawnat\n",
      "City #278: namibe\n",
      "City #279: asau\n",
      "City #280: samarai\n",
      "City #281: arnoldstein\n",
      "City #282: oistins\n",
      "City #283: lata\n",
      "City #284: marcona\n",
      "City #285: kropotkin\n",
      "City #286: tabiauea\n",
      "City #287: chokurdakh\n",
      "City #288: kavaratti\n",
      "City #289: ngong\n",
      "City #290: fuengirola\n",
      "City #291: severo-kurilsk\n",
      "City #292: grand%20river%20south%20east\n",
      "City #293: cariamanga\n",
      "City #294: onega\n",
      "City #295: aquin\n",
      "City #296: dolny%20kubin\n",
      "City #297: vao\n",
      "City #298: berlevag\n",
      "City #299: neyshabur\n",
      "City #300: hambantota\n",
      "City #301: katima%20mulilo\n",
      "City #302: luang%20prabang\n",
      "City #303: college\n",
      "City #304: torbay\n",
      "City #305: isangel\n",
      "City #306: kirakira\n",
      "City #307: iquique\n",
      "City #308: alotau\n",
      "City #309: san%20antonio\n",
      "City #310: hakvik\n",
      "City #311: longyearbyen\n",
      "City #312: bay%20roberts\n",
      "City #313: mahebourg\n",
      "City #314: kiunga\n",
      "City #315: kribi\n",
      "City #316: monticello\n",
      "City #317: port%20augusta\n",
      "City #318: padang\n",
      "City #319: iraucuba\n",
      "City #320: tuy%20hoa\n",
      "City #321: ayan\n",
      "City #322: nebolchi\n",
      "City #323: vanavara\n",
      "City #324: kavieng\n",
      "City #325: lolua\n",
      "City #326: barawe\n",
      "City #327: springbok\n",
      "City #328: victoria\n",
      "City #329: santiago%20del%20estero\n",
      "City #330: pulandian\n",
      "City #331: shar\n",
      "City #332: maniitsoq\n",
      "City #333: beitbridge\n",
      "City #334: lavrentiya\n",
      "City #335: bull%20savanna\n",
      "City #336: ust-tsilma\n",
      "City #337: fort%20nelson\n",
      "City #338: kruisfontein\n",
      "City #339: iqaluit\n",
      "City #340: chengde\n",
      "City #341: fuerte%20olimpo\n",
      "City #342: gushikawa\n",
      "City #343: opuwo\n",
      "City #344: kahului\n",
      "City #345: launceston\n",
      "City #346: dwarka\n",
      "City #347: dzaoudzi\n",
      "City #348: sept-iles\n",
      "City #349: jacqueville\n",
      "City #350: honningsvag\n",
      "City #351: porto%20novo\n",
      "City #352: ponta%20delgada\n",
      "City #353: hobbs\n",
      "City #354: bada\n",
      "City #355: georgetown\n",
      "City #356: kuche\n",
      "City #357: praia\n",
      "City #358: armidale\n",
      "City #359: kerteh\n",
      "City #360: beidao\n",
      "City #361: brae\n",
      "City #362: cabo%20san%20lucas\n",
      "City #363: chaah\n",
      "City #364: ixtapa\n",
      "City #365: deputatskiy\n",
      "City #366: bani\n",
      "City #367: atar\n",
      "City #368: carutapera\n",
      "City #369: itarema\n",
      "City #370: nosy%20varika\n",
      "City #371: mocambique\n",
      "City #372: nizhniy%20kuranakh\n",
      "City #373: campbell%20river\n",
      "City #374: bowen\n",
      "City #375: maragogi\n",
      "City #376: kodiak\n",
      "City #377: bengkulu\n",
      "City #378: omsukchan\n",
      "City #379: touros\n",
      "City #380: yantal\n",
      "City #381: tullahoma\n",
      "City #382: luziania\n",
      "City #383: yefimovskiy\n",
      "City #384: mocuba\n",
      "City #385: mareeba\n",
      "City #386: purranque\n",
      "City #387: luba\n",
      "City #388: romitan\n",
      "City #389: hamilton\n",
      "City #390: nizhneyansk\n",
      "City #391: am%20timan\n",
      "City #392: honiara\n",
      "City #393: oktyabrskiy\n",
      "City #394: labuan\n",
      "City #395: beian\n",
      "City #396: narasannapeta\n",
      "City #397: constitucion\n",
      "City #398: damnagar\n",
      "City #399: fare\n",
      "City #400: clyde%20river\n",
      "City #401: aklera\n",
      "City #402: coxim\n",
      "City #403: karamay\n",
      "City #404: la%20romana\n"
     ]
    },
    {
     "name": "stdout",
     "output_type": "stream",
     "text": [
      "City #405: kozloduj\n",
      "City #406: liliongan\n",
      "City #407: meulaboh\n",
      "City #408: okha\n",
      "City #409: codrington\n",
      "City #410: arcata\n",
      "City #411: abong%20mbang\n",
      "City #412: san%20patricio\n",
      "City #413: ahipara\n",
      "City #414: sumenep\n",
      "City #415: kusk\n",
      "City #416: veraval\n",
      "City #417: maromitsa\n",
      "City #418: fowa\n",
      "City #419: la%20paz\n",
      "City #420: ekibastuz\n",
      "City #421: felidhoo\n",
      "City #422: borisoglebskiy\n",
      "City #423: wagar\n",
      "City #424: bayji\n",
      "City #425: bocana%20de%20paiwas\n",
      "City #426: tevaitoa\n",
      "City #427: port%20hedland\n",
      "City #428: marion\n",
      "City #429: ketchikan\n",
      "City #430: yeppoon\n",
      "City #431: tambura\n",
      "City #432: kachug\n",
      "City #433: saquarema\n",
      "City #434: antofagasta\n",
      "City #435: flinders\n",
      "City #436: barentsburg\n",
      "City #437: obluche\n",
      "City #438: sabang\n",
      "City #439: jacareacanga\n",
      "City #440: pinega\n",
      "City #441: paka\n",
      "City #442: cognac\n",
      "City #443: namie\n",
      "City #444: vung%20tau\n",
      "City #445: labutta\n",
      "City #446: guaraniacu\n",
      "City #447: muzhi\n",
      "City #448: belmonte\n",
      "City #449: nguiu\n",
      "City #450: caorle\n",
      "City #451: tateyama\n",
      "City #452: mount%20isa\n",
      "City #453: pochutla\n",
      "City #454: hofn\n",
      "City #455: lewisporte\n",
      "City #456: phek\n",
      "City #457: coahuayana\n",
      "City #458: breves\n",
      "City #459: eyl\n",
      "City #460: chagda\n",
      "City #461: saint-augustin\n",
      "City #462: puerto%20colombia\n",
      "City #463: turukhansk\n",
      "City #464: thompson\n",
      "City #465: utiroa\n",
      "City #466: bijie\n",
      "City #467: shiyan\n",
      "City #468: dukhovshchina\n",
      "City #469: moerai\n",
      "City #470: porto%20seguro\n",
      "City #471: satitoa\n",
      "City #472: ereymentau\n",
      "City #473: kudahuvadhoo\n",
      "City #474: albury\n",
      "City #475: grand%20gaube\n",
      "City #476: jiwani\n",
      "City #477: airai\n",
      "City #478: matata\n",
      "City #479: krasnokamensk\n",
      "City #480: sandorfalva\n",
      "City #481: presidencia%20roque%20saenz%20pena\n",
      "City #482: gibara\n",
      "City #483: grafenhainichen\n",
      "City #484: tucuma\n",
      "City #485: sao%20filipe\n",
      "City #486: mehamn\n",
      "City #487: lorengau\n",
      "City #488: paamiut\n",
      "City #489: calama\n",
      "City #490: cap%20malheureux\n",
      "City #491: buraydah\n",
      "City #492: kutum\n",
      "City #493: te%20anau\n",
      "City #494: brigantine\n",
      "City #495: necochea\n",
      "City #496: umm%20lajj\n",
      "City #497: carauari\n",
      "City #498: iaciara\n",
      "City #499: primorsk\n",
      "City #500: areia%20branca\n",
      "City #501: umea\n",
      "City #502: henties%20bay\n",
      "City #503: poyarkovo\n",
      "City #504: lubsko\n",
      "City #505: komsomolets\n",
      "City #506: nalbari\n",
      "City #507: vikersund\n",
      "City #508: maxixe\n",
      "City #509: nouadhibou\n",
      "City #510: cochrane\n",
      "City #511: howard%20springs\n",
      "City #512: samusu\n",
      "City #513: qui%20nhon\n",
      "City #514: ishigaki\n",
      "City #515: dayong\n",
      "City #516: ucluelet\n",
      "City #517: ouesso\n",
      "City #518: aksarka\n",
      "City #519: korla\n",
      "City #520: samalaeulu\n",
      "City #521: borogontsy\n",
      "City #522: solnechnyy\n",
      "City #523: aksha\n",
      "City #524: troitskoye\n",
      "City #525: port%20blair\n",
      "City #526: karasburg\n",
      "City #527: aporawan\n",
      "City #528: fairbanks\n",
      "City #529: sayyan\n",
      "City #530: garissa\n",
      "City #531: dicabisagan\n",
      "City #532: chernyshevskiy\n",
      "City #533: tongzi\n",
      "City #534: biaora\n",
      "City #535: kazachinskoye\n",
      "City #536: tres%20arroyos\n",
      "City #537: havre\n",
      "City #538: korem\n",
      "City #539: khonuu\n",
      "City #540: nelson%20bay\n",
      "City #541: ugoofaaru\n",
      "City #542: alyangula\n",
      "City #543: penzance\n",
      "City #544: saint-pierre\n",
      "City #545: rostock\n",
      "City #546: wulanhaote\n",
      "City #547: jimma\n",
      "City #548: robore\n",
      "City #549: payo\n",
      "City #550: riachao%20das%20neves\n",
      "City #551: salar\n",
      "City #552: melilla\n",
      "City #553: udachnyy\n",
      "City #554: lufilufi\n",
      "City #555: matagami\n",
      "City #556: geraldton\n",
      "City #557: potam\n",
      "City #558: takoradi\n",
      "City #559: kaeo\n",
      "City #560: bilma\n",
      "City #561: ust-nera\n",
      "City #562: coihaique\n",
      "City #563: shaartuz\n",
      "City #564: tumannyy\n",
      "City #565: lusambo\n",
      "City #566: la%20oroya\n",
      "City #567: nobres\n",
      "City #568: nemuro\n",
      "City #569: bardiyah\n",
      "City #570: ayagoz\n",
      "City #571: bodrum\n",
      "City #572: rosenberg\n",
      "City #573: phonhong\n",
      "City #574: xifeng\n",
      "City #575: podgorica\n",
      "City #576: benbrook\n",
      "City #577: slave%20lake\n",
      "City #578: stafford\n",
      "City #579: ayacucho\n",
      "City #580: zhezkazgan\n",
      "City #581: ambon\n",
      "City #582: leeton\n",
      "City #583: coronel%20oviedo\n",
      "City #584: bargal\n",
      "City #585: formosa\n",
      "City #586: olaine\n",
      "City #587: sai%20buri\n",
      "City #588: general%20pico\n",
      "City #589: pimentel\n",
      "City #590: marneuli\n",
      "City #591: tezu\n",
      "City #592: smithers\n",
      "City #593: aripuana\n",
      "City #594: rudbar\n",
      "City #595: greytown\n",
      "City #596: taoudenni\n",
      "City #597: arrifes\n",
      "City #598: bay%20city\n",
      "City #599: mangai\n",
      "City #600: aquiraz\n",
      "City #601: sibolga\n",
      "City #602: vostok\n",
      "551\n"
     ]
    }
   ],
   "source": [
    "# Create empty lists\n",
    "temp = []\n",
    "hum = []\n",
    "clouds = []\n",
    "wind_speed = []\n",
    "cities_analyzed = []\n",
    "countries_analyzed = []\n",
    "lats = []\n",
    "lngs = []\n",
    "\n",
    "for index, row in cities_coordinates_df.iterrows():\n",
    "        # replace spaces for \"%20\", which can be read by API\n",
    "        current_city = row[\"City\"].replace(\" \", \"%20\")\n",
    "        current_country = row[\"Country\"]\n",
    "        \n",
    "        # Print log of each city as it is being processed\n",
    "        print(f\"City #{index + 1}: {current_city}\")\n",
    "        \n",
    "        query_url = base_url + str(current_city)\n",
    "        \n",
    "        try:\n",
    "            # Get responses from API and append all lists\n",
    "            response = requests.get(query_url)\n",
    "            json_response = response.json()\n",
    "            temp.append(json_response[\"main\"][\"temp\"])\n",
    "            hum.append(json_response[\"main\"][\"humidity\"])\n",
    "            clouds.append(json_response[\"clouds\"][\"all\"])\n",
    "            wind_speed.append(json_response[\"wind\"][\"speed\"])\n",
    "            current_city = current_city.replace(\"%20\",\" \")\n",
    "            cities_analyzed.append(current_city)\n",
    "            countries_analyzed.append(current_country)\n",
    "            lats.append(row[\"Latitude\"])\n",
    "            lngs.append(row[\"Longtitude\"])\n",
    "            time.sleep(1)\n",
    "        except KeyError:\n",
    "            pass\n",
    "    \n",
    "# Check if API was able to fetch data from >500 cities\n",
    "print(len(cities_analyzed))"
   ]
  },
  {
   "cell_type": "markdown",
   "metadata": {},
   "source": [
    "### Convert Raw Data to DataFrame\n",
    "* Export the city data into a .csv.\n",
    "* Display the DataFrame"
   ]
  },
  {
   "cell_type": "code",
   "execution_count": 7,
   "metadata": {},
   "outputs": [
    {
     "data": {
      "text/html": [
       "<div>\n",
       "<style scoped>\n",
       "    .dataframe tbody tr th:only-of-type {\n",
       "        vertical-align: middle;\n",
       "    }\n",
       "\n",
       "    .dataframe tbody tr th {\n",
       "        vertical-align: top;\n",
       "    }\n",
       "\n",
       "    .dataframe thead th {\n",
       "        text-align: right;\n",
       "    }\n",
       "</style>\n",
       "<table border=\"1\" class=\"dataframe\">\n",
       "  <thead>\n",
       "    <tr style=\"text-align: right;\">\n",
       "      <th></th>\n",
       "      <th>City</th>\n",
       "      <th>Country</th>\n",
       "      <th>Latitude</th>\n",
       "      <th>Longtitude</th>\n",
       "      <th>Temperature (F)</th>\n",
       "      <th>Humidity (%)</th>\n",
       "      <th>Cloudiness (%)</th>\n",
       "      <th>Wind Speed (mph)</th>\n",
       "    </tr>\n",
       "  </thead>\n",
       "  <tbody>\n",
       "    <tr>\n",
       "      <th>0</th>\n",
       "      <td>port alfred</td>\n",
       "      <td>za</td>\n",
       "      <td>-84.993006</td>\n",
       "      <td>48.938688</td>\n",
       "      <td>66.00</td>\n",
       "      <td>97</td>\n",
       "      <td>0</td>\n",
       "      <td>1.01</td>\n",
       "    </tr>\n",
       "    <tr>\n",
       "      <th>1</th>\n",
       "      <td>ushuaia</td>\n",
       "      <td>ar</td>\n",
       "      <td>-86.603767</td>\n",
       "      <td>-69.181265</td>\n",
       "      <td>47.46</td>\n",
       "      <td>57</td>\n",
       "      <td>100</td>\n",
       "      <td>14.94</td>\n",
       "    </tr>\n",
       "    <tr>\n",
       "      <th>2</th>\n",
       "      <td>souillac</td>\n",
       "      <td>mu</td>\n",
       "      <td>-47.684674</td>\n",
       "      <td>72.382445</td>\n",
       "      <td>76.50</td>\n",
       "      <td>83</td>\n",
       "      <td>75</td>\n",
       "      <td>11.41</td>\n",
       "    </tr>\n",
       "    <tr>\n",
       "      <th>3</th>\n",
       "      <td>chuy</td>\n",
       "      <td>uy</td>\n",
       "      <td>-45.453788</td>\n",
       "      <td>-42.502154</td>\n",
       "      <td>76.30</td>\n",
       "      <td>69</td>\n",
       "      <td>45</td>\n",
       "      <td>7.72</td>\n",
       "    </tr>\n",
       "    <tr>\n",
       "      <th>4</th>\n",
       "      <td>sao felix do xingu</td>\n",
       "      <td>br</td>\n",
       "      <td>-7.798523</td>\n",
       "      <td>-52.246315</td>\n",
       "      <td>80.53</td>\n",
       "      <td>89</td>\n",
       "      <td>100</td>\n",
       "      <td>3.53</td>\n",
       "    </tr>\n",
       "    <tr>\n",
       "      <th>...</th>\n",
       "      <td>...</td>\n",
       "      <td>...</td>\n",
       "      <td>...</td>\n",
       "      <td>...</td>\n",
       "      <td>...</td>\n",
       "      <td>...</td>\n",
       "      <td>...</td>\n",
       "      <td>...</td>\n",
       "    </tr>\n",
       "    <tr>\n",
       "      <th>546</th>\n",
       "      <td>bay city</td>\n",
       "      <td>us</td>\n",
       "      <td>43.914263</td>\n",
       "      <td>-83.418819</td>\n",
       "      <td>35.08</td>\n",
       "      <td>99</td>\n",
       "      <td>90</td>\n",
       "      <td>5.82</td>\n",
       "    </tr>\n",
       "    <tr>\n",
       "      <th>547</th>\n",
       "      <td>mangai</td>\n",
       "      <td>cd</td>\n",
       "      <td>-2.859188</td>\n",
       "      <td>20.131764</td>\n",
       "      <td>76.17</td>\n",
       "      <td>74</td>\n",
       "      <td>50</td>\n",
       "      <td>2.19</td>\n",
       "    </tr>\n",
       "    <tr>\n",
       "      <th>548</th>\n",
       "      <td>aquiraz</td>\n",
       "      <td>br</td>\n",
       "      <td>-1.605996</td>\n",
       "      <td>-36.026520</td>\n",
       "      <td>84.51</td>\n",
       "      <td>85</td>\n",
       "      <td>83</td>\n",
       "      <td>5.99</td>\n",
       "    </tr>\n",
       "    <tr>\n",
       "      <th>549</th>\n",
       "      <td>sibolga</td>\n",
       "      <td>id</td>\n",
       "      <td>-0.146580</td>\n",
       "      <td>97.635400</td>\n",
       "      <td>71.74</td>\n",
       "      <td>96</td>\n",
       "      <td>99</td>\n",
       "      <td>2.75</td>\n",
       "    </tr>\n",
       "    <tr>\n",
       "      <th>550</th>\n",
       "      <td>vostok</td>\n",
       "      <td>ru</td>\n",
       "      <td>48.000825</td>\n",
       "      <td>149.269885</td>\n",
       "      <td>-13.58</td>\n",
       "      <td>88</td>\n",
       "      <td>0</td>\n",
       "      <td>5.39</td>\n",
       "    </tr>\n",
       "  </tbody>\n",
       "</table>\n",
       "<p>551 rows × 8 columns</p>\n",
       "</div>"
      ],
      "text/plain": [
       "                   City Country   Latitude  Longtitude  Temperature (F)  \\\n",
       "0           port alfred      za -84.993006   48.938688            66.00   \n",
       "1               ushuaia      ar -86.603767  -69.181265            47.46   \n",
       "2              souillac      mu -47.684674   72.382445            76.50   \n",
       "3                  chuy      uy -45.453788  -42.502154            76.30   \n",
       "4    sao felix do xingu      br  -7.798523  -52.246315            80.53   \n",
       "..                  ...     ...        ...         ...              ...   \n",
       "546            bay city      us  43.914263  -83.418819            35.08   \n",
       "547              mangai      cd  -2.859188   20.131764            76.17   \n",
       "548             aquiraz      br  -1.605996  -36.026520            84.51   \n",
       "549             sibolga      id  -0.146580   97.635400            71.74   \n",
       "550              vostok      ru  48.000825  149.269885           -13.58   \n",
       "\n",
       "     Humidity (%)  Cloudiness (%)  Wind Speed (mph)  \n",
       "0              97               0              1.01  \n",
       "1              57             100             14.94  \n",
       "2              83              75             11.41  \n",
       "3              69              45              7.72  \n",
       "4              89             100              3.53  \n",
       "..            ...             ...               ...  \n",
       "546            99              90              5.82  \n",
       "547            74              50              2.19  \n",
       "548            85              83              5.99  \n",
       "549            96              99              2.75  \n",
       "550            88               0              5.39  \n",
       "\n",
       "[551 rows x 8 columns]"
      ]
     },
     "execution_count": 7,
     "metadata": {},
     "output_type": "execute_result"
    }
   ],
   "source": [
    "city_data = pd.DataFrame({\"City\": cities_analyzed,\n",
    "                          \"Country\": countries_analyzed,\n",
    "                          \"Latitude\": lats,\n",
    "                          \"Longtitude\": lngs,\n",
    "                          \"Temperature (F)\": temp,\n",
    "                          \"Humidity (%)\": hum,\n",
    "                          \"Cloudiness (%)\": clouds,\n",
    "                          \"Wind Speed (mph)\": wind_speed})\n",
    "city_data"
   ]
  },
  {
   "cell_type": "code",
   "execution_count": 8,
   "metadata": {},
   "outputs": [],
   "source": [
    "# Export data to csv file\n",
    "city_data.to_csv(\"../Output/city_data.csv\", index=False, header=True)"
   ]
  },
  {
   "cell_type": "markdown",
   "metadata": {},
   "source": [
    "### Plotting the Data\n",
    "* Use proper labeling of the plots using plot titles (including date of analysis) and axes labels.\n",
    "* Save the plotted figures as .pngs."
   ]
  },
  {
   "cell_type": "markdown",
   "metadata": {},
   "source": [
    "#### Latitude vs. Temperature Plot"
   ]
  },
  {
   "cell_type": "code",
   "execution_count": 9,
   "metadata": {
    "scrolled": true
   },
   "outputs": [
    {
     "data": {
      "image/png": "[encoded data removed]",
      "text/plain": [
       "<Figure size 432x288 with 1 Axes>"
      ]
     },
     "metadata": {
      "needs_background": "light"
     },
     "output_type": "display_data"
    }
   ],
   "source": [
    "plt.scatter(city_data[\"Latitude\"], city_data[\"Temperature (F)\"])\n",
    "plt.title(\"Latitude vs. Temperature\")\n",
    "plt.xlabel(\"Latitude\")\n",
    "plt.ylabel(\"Temperature (F)\")\n",
    "\n",
    "plt.show()"
   ]
  },
  {
   "cell_type": "markdown",
   "metadata": {},
   "source": [
    "#### Latitude vs. Humidity Plot"
   ]
  },
  {
   "cell_type": "code",
   "execution_count": 10,
   "metadata": {},
   "outputs": [
    {
     "data": {
      "image/png": "[encoded data removed]",
      "text/plain": [
       "<Figure size 432x288 with 1 Axes>"
      ]
     },
     "metadata": {
      "needs_background": "light"
     },
     "output_type": "display_data"
    }
   ],
   "source": [
    "plt.scatter(city_data[\"Latitude\"], city_data[\"Humidity (%)\"])\n",
    "plt.title(\"Latitude vs. Humidity\")\n",
    "plt.xlabel(\"Latitude\")\n",
    "plt.ylabel(\"Humidity (%)\")\n",
    "\n",
    "plt.show()"
   ]
  },
  {
   "cell_type": "markdown",
   "metadata": {},
   "source": [
    "#### Latitude vs. Cloudiness Plot"
   ]
  },
  {
   "cell_type": "code",
   "execution_count": 11,
   "metadata": {},
   "outputs": [
    {
     "data": {
      "image/png": "[encoded data removed]",
      "text/plain": [
       "<Figure size 432x288 with 1 Axes>"
      ]
     },
     "metadata": {
      "needs_background": "light"
     },
     "output_type": "display_data"
    }
   ],
   "source": [
    "plt.scatter(city_data[\"Latitude\"], city_data[\"Cloudiness (%)\"])\n",
    "plt.title(\"Latitude vs. Cloudiness\")\n",
    "plt.xlabel(\"Latitude\")\n",
    "plt.ylabel(\"Cloudiness (%)\")\n",
    "\n",
    "plt.show()"
   ]
  },
  {
   "cell_type": "markdown",
   "metadata": {},
   "source": [
    "#### Latitude vs. Wind Speed Plot"
   ]
  },
  {
   "cell_type": "code",
   "execution_count": 12,
   "metadata": {},
   "outputs": [
    {
     "data": {
      "image/png": "[encoded data removed]",
      "text/plain": [
       "<Figure size 432x288 with 1 Axes>"
      ]
     },
     "metadata": {
      "needs_background": "light"
     },
     "output_type": "display_data"
    }
   ],
   "source": [
    "plt.scatter(city_data[\"Latitude\"], city_data[\"Wind Speed (mph)\"])\n",
    "plt.title(\"Latitude vs. Wind Speed\")\n",
    "plt.xlabel(\"Latitude\")\n",
    "plt.ylabel(\"Wind Speed (mph)\")\n",
    "\n",
    "plt.show()"
   ]
  },
  {
   "cell_type": "markdown",
   "metadata": {},
   "source": [
    "## Linear Regression"
   ]
  },
  {
   "cell_type": "code",
   "execution_count": 13,
   "metadata": {},
   "outputs": [
    {
     "name": "stdout",
     "output_type": "stream",
     "text": [
      "373\n",
      "178\n"
     ]
    }
   ],
   "source": [
    "# Create empty lists\n",
    "n_hem_lats = []\n",
    "n_hem_temp = []\n",
    "n_hem_hum = []\n",
    "n_hem_clouds = []\n",
    "n_hem_wspeed = []\n",
    "s_hem_lats = []\n",
    "s_hem_temp = []\n",
    "s_hem_hum = []\n",
    "s_hem_clouds = []\n",
    "s_hem_wspeed = []\n",
    "\n",
    "\n",
    "# Loop through dataframe, find latitudes for each hemisphere and append corresponding values to lists        \n",
    "for index, row in city_data.iterrows():\n",
    "    if row[\"Latitude\"] >= 0:\n",
    "        n_hem_lats.append(row[\"Latitude\"])\n",
    "        n_hem_temp.append(row[\"Temperature (F)\"])\n",
    "        n_hem_hum.append(row[\"Humidity (%)\"])\n",
    "        n_hem_clouds.append(row[\"Cloudiness (%)\"])\n",
    "        n_hem_wspeed.append(row[\"Wind Speed (mph)\"])\n",
    "        \n",
    "    elif row[\"Latitude\"] < 0:\n",
    "        s_hem_lats.append(row[\"Latitude\"])\n",
    "        s_hem_temp.append(row[\"Temperature (F)\"])\n",
    "        s_hem_hum.append(row[\"Humidity (%)\"])\n",
    "        s_hem_clouds.append(row[\"Cloudiness (%)\"])\n",
    "        s_hem_wspeed.append(row[\"Wind Speed (mph)\"])\n",
    "\n",
    "# Chech how many datapoints we have for each hemisphere        \n",
    "print(len(n_hem_lats))\n",
    "print(len(s_hem_lats))"
   ]
  },
  {
   "cell_type": "code",
   "execution_count": 14,
   "metadata": {},
   "outputs": [],
   "source": [
    "# Create Northern and Southern Hemisphere DataFrames\n",
    "n_hem_df = pd.DataFrame({\"Latitude\": n_hem_lats,\n",
    "                         \"Temperature\": n_hem_temp,\n",
    "                         \"Humidity\": n_hem_hum,\n",
    "                         \"Cloudiness\": n_hem_clouds,\n",
    "                         \"Wind Speed\": n_hem_wspeed})\n",
    "\n",
    "s_hem_df = pd.DataFrame({\"Latitude\": s_hem_lats,\n",
    "                         \"Temperature\": s_hem_temp,\n",
    "                         \"Humidity\": s_hem_hum,\n",
    "                         \"Cloudiness\": s_hem_clouds,\n",
    "                         \"Wind Speed\": s_hem_wspeed})"
   ]
  },
  {
   "cell_type": "code",
   "execution_count": 15,
   "metadata": {},
   "outputs": [],
   "source": [
    "# Create a function to create Linear Regression plots\n",
    "def linregress_plot(x_values, y_values, y_label, title, filename):\n",
    "    (slope, intercept, rvalue, pvalue, stderr) = linregress(x_values, y_values)\n",
    "    regress_values = x_values * slope + intercept\n",
    "    line_eq = \"y = \" + str(round(slope, 2)) + \"x + \" + str(round(intercept, 2))\n",
    "    plt.scatter(x_values, y_values)\n",
    "    plt.plot(x_values, regress_values, color=\"r\")\n",
    "    \n",
    "    # Set locations for line equation\n",
    "    x= 1.10 * (max((x_values) + min(x_values)) / 2)\n",
    "    y= max((y_values) + min(y_values)) / 2\n",
    "    plt.annotate(line_eq,(x,y),fontsize=15,color=\"r\")\n",
    "    \n",
    "    plt.title(title)\n",
    "    plt.xlabel(\"Latitude\")\n",
    "    plt.ylabel(y_label)\n",
    "    plt.savefig(\"../Output/\" + filename)\n",
    "    plt.show()"
   ]
  },
  {
   "cell_type": "markdown",
   "metadata": {},
   "source": [
    "####  Northern Hemisphere - Max Temp vs. Latitude Linear Regression"
   ]
  },
  {
   "cell_type": "code",
   "execution_count": 16,
   "metadata": {},
   "outputs": [
    {
     "data": {
      "image/png": "[encoded data removed]",
      "text/plain": [
       "<Figure size 432x288 with 1 Axes>"
      ]
     },
     "metadata": {
      "needs_background": "light"
     },
     "output_type": "display_data"
    }
   ],
   "source": [
    "x_values = n_hem_df[\"Latitude\"]\n",
    "y_values = n_hem_df[\"Temperature\"]\n",
    "linregress_plot(x_values, y_values, \"Temperature (F)\", \"Northen Hemisphere - Latitude vs. Temperature\",\n",
    "                \"Nor_Hemi_Lat_Temp\")"
   ]
  },
  {
   "cell_type": "markdown",
   "metadata": {},
   "source": [
    "####  Southern Hemisphere - Max Temp vs. Latitude Linear Regression"
   ]
  },
  {
   "cell_type": "code",
   "execution_count": 17,
   "metadata": {},
   "outputs": [
    {
     "data": {
      "image/png": "[encoded data removed]",
      "text/plain": [
       "<Figure size 432x288 with 1 Axes>"
      ]
     },
     "metadata": {
      "needs_background": "light"
     },
     "output_type": "display_data"
    }
   ],
   "source": [
    "x_values = s_hem_df[\"Latitude\"]\n",
    "y_values = s_hem_df[\"Temperature\"]\n",
    "linregress_plot(x_values, y_values, \"Temperature (F)\", \"Southern Hemisphere - Latitude vs. Temperature\",\n",
    "                \"Sou_Hemi_Lat_Temp\")"
   ]
  },
  {
   "cell_type": "markdown",
   "metadata": {},
   "source": [
    "## ANALYSIS - Latitude vs. Temperature: \n",
    "On the northern hemisphere a strong negative linear relationship is observed: when latitute increases, temperature decreases.\n",
    "On the southern hemisphere this is inversed: when latitude increases, temperature increases as well. However, the slope of the regression line for the southern hemisphere is much smaller than the regression line of the northern hemisphere. This means that latitude has a greater effect on temperature on the northern hemisphere than on the southern hemisphere."
   ]
  },
  {
   "cell_type": "markdown",
   "metadata": {},
   "source": [
    "####  Northern Hemisphere - Humidity (%) vs. Latitude Linear Regression"
   ]
  },
  {
   "cell_type": "code",
   "execution_count": 18,
   "metadata": {},
   "outputs": [
    {
     "data": {
      "image/png": "[encoded data removed]",
      "text/plain": [
       "<Figure size 432x288 with 1 Axes>"
      ]
     },
     "metadata": {
      "needs_background": "light"
     },
     "output_type": "display_data"
    }
   ],
   "source": [
    "x_values = n_hem_df[\"Latitude\"]\n",
    "y_values = n_hem_df[\"Humidity\"]\n",
    "linregress_plot(x_values, y_values, \"Humidity (%)\", \"Northern Hemisphere - Latitude vs. Humidity\",\n",
    "                \"Nor_Hemi_Lat_Hum\")"
   ]
  },
  {
   "cell_type": "markdown",
   "metadata": {},
   "source": [
    "####  Southern Hemisphere - Humidity (%) vs. Latitude Linear Regression"
   ]
  },
  {
   "cell_type": "code",
   "execution_count": 19,
   "metadata": {},
   "outputs": [
    {
     "data": {
      "image/png": "[encoded data removed]",
      "text/plain": [
       "<Figure size 432x288 with 1 Axes>"
      ]
     },
     "metadata": {
      "needs_background": "light"
     },
     "output_type": "display_data"
    }
   ],
   "source": [
    "x_values = s_hem_df[\"Latitude\"]\n",
    "y_values = s_hem_df[\"Humidity\"]\n",
    "linregress_plot(x_values, y_values, \"Humidity (%)\", \"Southern Hemisphere - Latitude vs. Humidity\",\n",
    "                \"Sou_Hemi_Lat_Hum\")"
   ]
  },
  {
   "cell_type": "markdown",
   "metadata": {},
   "source": [
    "## ANALYSIS - Latitude vs. Humidity: \n",
    "On the northern hemisphere a modest positive linear relationship is observed: when latitude increases, humidity on average increases as well.\n",
    "On the southern hemisphere this relationship is much smaller: the slope of regression line is close to 0. These results indicate that latitude has some effect on humidity, but mostly on the northern hemisphere."
   ]
  },
  {
   "cell_type": "markdown",
   "metadata": {},
   "source": [
    "####  Northern Hemisphere - Cloudiness (%) vs. Latitude Linear Regression"
   ]
  },
  {
   "cell_type": "code",
   "execution_count": 20,
   "metadata": {},
   "outputs": [
    {
     "data": {
      "image/png": "[encoded data removed]",
      "text/plain": [
       "<Figure size 432x288 with 1 Axes>"
      ]
     },
     "metadata": {
      "needs_background": "light"
     },
     "output_type": "display_data"
    }
   ],
   "source": [
    "x_values = n_hem_df[\"Latitude\"]\n",
    "y_values = n_hem_df[\"Cloudiness\"]\n",
    "linregress_plot(x_values, y_values, \"Cloudiness (%)\", \"Northern Hemisphere - Latitude vs. Cloudiness\",\n",
    "                \"Nor_Hemi_Lat_Clouds\")"
   ]
  },
  {
   "cell_type": "markdown",
   "metadata": {},
   "source": [
    "####  Southern Hemisphere - Cloudiness (%) vs. Latitude Linear Regression"
   ]
  },
  {
   "cell_type": "code",
   "execution_count": 21,
   "metadata": {},
   "outputs": [
    {
     "data": {
      "image/png": "[encoded data removed]",
      "text/plain": [
       "<Figure size 432x288 with 1 Axes>"
      ]
     },
     "metadata": {
      "needs_background": "light"
     },
     "output_type": "display_data"
    }
   ],
   "source": [
    "x_values = s_hem_df[\"Latitude\"]\n",
    "y_values = s_hem_df[\"Cloudiness\"]\n",
    "linregress_plot(x_values, y_values, \"Cloudiness (%)\", \"Southern Hemisphere - Latitude vs. Cloudiness\",\n",
    "                \"Sou_Hemi_Lat_Clouds\")"
   ]
  },
  {
   "cell_type": "markdown",
   "metadata": {},
   "source": [
    "# ANALYSIS - Latitude vs. Cloudiness: \n",
    "On both the northern and southern hemisphere a modest positive linear relationship is observed: when latitude increases, cloudiness on average increases as well. This relationship is strongest on the southern hemisphere: the slope of the regression line is 0.51 compared to 0.41 for the northern hemisphere. These results indicate that latitude has some effect on cloudiness on both hemispheres."
   ]
  },
  {
   "cell_type": "markdown",
   "metadata": {},
   "source": [
    "####  Northern Hemisphere - Wind Speed (mph) vs. Latitude Linear Regression"
   ]
  },
  {
   "cell_type": "code",
   "execution_count": 22,
   "metadata": {},
   "outputs": [
    {
     "data": {
      "image/png": "[encoded data removed]",
      "text/plain": [
       "<Figure size 432x288 with 1 Axes>"
      ]
     },
     "metadata": {
      "needs_background": "light"
     },
     "output_type": "display_data"
    }
   ],
   "source": [
    "x_values = n_hem_df[\"Latitude\"]\n",
    "y_values = n_hem_df[\"Wind Speed\"]\n",
    "linregress_plot(x_values, y_values, \"Wind Speed (mph)\", \"Northern Hemisphere - Latitude vs. Wind Speed\",\n",
    "                \"Nor_Hemi_Lat_Wspeed\")"
   ]
  },
  {
   "cell_type": "markdown",
   "metadata": {},
   "source": [
    "####  Southern Hemisphere - Wind Speed (mph) vs. Latitude Linear Regression"
   ]
  },
  {
   "cell_type": "code",
   "execution_count": 23,
   "metadata": {},
   "outputs": [
    {
     "data": {
      "image/png": "[encoded data removed]",
      "text/plain": [
       "<Figure size 432x288 with 1 Axes>"
      ]
     },
     "metadata": {
      "needs_background": "light"
     },
     "output_type": "display_data"
    }
   ],
   "source": [
    "x_values = s_hem_df[\"Latitude\"]\n",
    "y_values = s_hem_df[\"Wind Speed\"]\n",
    "linregress_plot(x_values, y_values, \"Wind Speed (mph)\", \"Southern Hemisphere - Latitude vs. Wind Speed\",\n",
    "                \"Sou_Hemi_Lat_Wspeed\")\n"
   ]
  },
  {
   "cell_type": "markdown",
   "metadata": {},
   "source": [
    "## ANALYSIS - Latitude vs. Wind Speed: \n",
    "For both the northern and the southern hemisphere the slope of the regression line is nearly 0. This means that the effect of latitude on wind speed is neglible, and no meaningful linear relationship can be observed."
   ]
  },
  {
   "cell_type": "code",
   "execution_count": null,
   "metadata": {},
   "outputs": [],
   "source": []
  }
 ],
 "metadata": {
  "anaconda-cloud": {},
  "kernel_info": {
   "name": "python3"
  },
  "kernelspec": {
   "display_name": "Python 3",
   "language": "python",
   "name": "python3"
  },
  "language_info": {
   "codemirror_mode": {
    "name": "ipython",
    "version": 3
   },
   "file_extension": ".py",
   "mimetype": "text/x-python",
   "name": "python",
   "nbconvert_exporter": "python",
   "pygments_lexer": "ipython3",
   "version": "3.6.9"
  },
  "latex_envs": {
   "LaTeX_envs_menu_present": true,
   "autoclose": false,
   "autocomplete": true,
   "bibliofile": "biblio.bib",
   "cite_by": "apalike",
   "current_citInitial": 1,
   "eqLabelWithNumbers": true,
   "eqNumInitial": 1,
   "hotkeys": {
    "equation": "Ctrl-E",
    "itemize": "Ctrl-I"
   },
   "labels_anchors": false,
   "latex_user_defs": false,
   "report_style_numbering": false,
   "user_envs_cfg": false
  },
  "nteract": {
   "version": "0.12.3"
  }
 },
 "nbformat": 4,
 "nbformat_minor": 2
}
